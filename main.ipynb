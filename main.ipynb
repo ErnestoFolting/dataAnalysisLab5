{
 "cells": [
  {
   "cell_type": "markdown",
   "metadata": {},
   "source": [
    "Лабораторна робота № 5\n",
    "Смислов Даніл\n",
    "ІП-01\n",
    "\n",
    "Спочатку імпортуємо потрібні для роботи бібліотеки"
   ]
  },
  {
   "cell_type": "code",
   "execution_count": null,
   "metadata": {},
   "outputs": [],
   "source": [
    "import pandas as pd \n",
    "import matplotlib.pyplot as plt\n",
    "import numpy as np\n"
   ]
  },
  {
   "cell_type": "markdown",
   "metadata": {},
   "source": [
    "Далі імпортуємо дані з файлу wine.csv з кодуванням 'cp1252' та розділювачем ','. Розглянемо структуру датафрейму."
   ]
  },
  {
   "cell_type": "code",
   "execution_count": null,
   "metadata": {},
   "outputs": [],
   "source": [
    "def getDataset():\n",
    "    data = pd.read_csv('wine.csv',sep=',',encoding='cp1252')\n",
    "    return data \n",
    "\n",
    "dataset = getDataset()\n",
    "dataset.info()\n",
    "dataset.head(10)"
   ]
  },
  {
   "cell_type": "markdown",
   "metadata": {},
   "source": [
    "Як ми бачимо, з типом проблем немає. Давайте перевіримо на негативні значення."
   ]
  },
  {
   "cell_type": "code",
   "execution_count": null,
   "metadata": {},
   "outputs": [],
   "source": [
    "for column in dataset.columns:\n",
    "    print(column + \": \")\n",
    "    print(dataset[dataset[column]<0])"
   ]
  },
  {
   "cell_type": "markdown",
   "metadata": {},
   "source": [
    "Як ми бачимо, негативних значень немає. Тому можемо працювати з даними. Давайте перевіримо наші значення в колонках на нормальність розподілу, використовуючи критерій Пірсона, адже розмір вибірки є досить великим.\n"
   ]
  },
  {
   "cell_type": "code",
   "execution_count": null,
   "metadata": {},
   "outputs": [],
   "source": [
    "import scipy.stats as stats\n",
    "def testPirsona(data):\n",
    "    statistic, p = stats.normaltest(data)\n",
    "    print('Pirsona:', 'Statistic: %.4f P: %.30f' % (statistic,p))\n",
    "    if(p > 0.05):\n",
    "        print('Нормальний розподіл')\n",
    "    else:\n",
    "        print(len(data))\n",
    "        print('Не нормальний розподіл')\n",
    "\n",
    "for column in dataset.columns:\n",
    "    print(column)\n",
    "    testPirsona(dataset[column])\n"
   ]
  },
  {
   "cell_type": "markdown",
   "metadata": {},
   "source": [
    "Як бачимо, розподіли не нормального виду. Давайте розрахуємо матрицю кореляції для даних."
   ]
  },
  {
   "cell_type": "code",
   "execution_count": null,
   "metadata": {},
   "outputs": [],
   "source": [
    "dataset.corr()"
   ]
  },
  {
   "cell_type": "markdown",
   "metadata": {},
   "source": [
    "Давайте побудуємо діаграму розмаху для стовпчика 'chlorides', до прикладу."
   ]
  },
  {
   "cell_type": "code",
   "execution_count": null,
   "metadata": {},
   "outputs": [],
   "source": [
    " \n",
    "dataset.boxplot('chlorides')\n"
   ]
  },
  {
   "cell_type": "markdown",
   "metadata": {},
   "source": [
    "Як ми бачимо, є \"викиди\" та значення досить сильно різняться. Давайте напишемо функцію для відкидання \"викидів\" та застосуємо до стовпця. "
   ]
  },
  {
   "cell_type": "code",
   "execution_count": null,
   "metadata": {},
   "outputs": [],
   "source": [
    "def deleteEmission(dataset,columnName):\n",
    "    Q1 = dataset[columnName].quantile(.25)\n",
    "    Q3 = dataset[columnName].quantile(.75)\n",
    "    center = Q3 - Q1\n",
    "    dataset = dataset.drop(dataset[dataset[columnName]<(Q1-1.5* center)].index)\n",
    "    dataset = dataset.drop(dataset[dataset[columnName]>(Q3 + 1.5* center)].index)\n",
    "    return dataset\n",
    "\n",
    "dataset = deleteEmission(dataset,'chlorides')\n",
    "dataset.boxplot('chlorides')\n"
   ]
  },
  {
   "cell_type": "markdown",
   "metadata": {},
   "source": [
    "Як ми бачимо, тепер немає таких виражених \"викидів\". Тепер застосуємо нашу функцію до всіх стовпців."
   ]
  },
  {
   "cell_type": "code",
   "execution_count": null,
   "metadata": {},
   "outputs": [],
   "source": [
    "for columnName in dataset.columns:\n",
    "    dataset = deleteEmission(dataset,columnName)\n",
    "\n",
    "dataset.boxplot('fixed acidity')"
   ]
  },
  {
   "cell_type": "markdown",
   "metadata": {},
   "source": [
    "Тепер давайте виокремимо дані та розподілимо їх на навчальну та тестові вибірки."
   ]
  },
  {
   "cell_type": "code",
   "execution_count": null,
   "metadata": {},
   "outputs": [],
   "source": [
    "from sklearn.model_selection import train_test_split\n",
    "from sklearn.linear_model import LinearRegression\n",
    "data = dataset.iloc[:,:11].to_numpy()\n",
    "fact = dataset['quality'].to_numpy()\n",
    "\n",
    "trainingX,testX,trainingY,testY = train_test_split(data,fact,test_size = 0.33,random_state = 0)\n",
    "\n"
   ]
  },
  {
   "cell_type": "markdown",
   "metadata": {},
   "source": [
    "Тепер побудуємо лінійну та поліноміальні моделі 2-3 порядків для прогнозу 'quality'."
   ]
  },
  {
   "cell_type": "code",
   "execution_count": null,
   "metadata": {},
   "outputs": [],
   "source": [
    "from sklearn.preprocessing import PolynomialFeatures\n",
    "from sklearn.pipeline import make_pipeline\n",
    "linearRegression = LinearRegression().fit(trainingX,trainingY)\n",
    "models = []\n",
    "models.append(linearRegression)\n",
    "for i in range(2,4):\n",
    "    print(i)\n",
    "    tempPipeline = make_pipeline(PolynomialFeatures(degree=i), LinearRegression())\n",
    "    tempReg = tempPipeline.fit(trainingX,trainingY)\n",
    "    models.append(tempReg)"
   ]
  },
  {
   "cell_type": "markdown",
   "metadata": {},
   "source": [
    "Тепер давайте обрахуємо MSE та R2"
   ]
  },
  {
   "cell_type": "code",
   "execution_count": null,
   "metadata": {},
   "outputs": [],
   "source": [
    "from sklearn.metrics import mean_squared_error\n",
    "from sklearn.metrics import r2_score\n",
    "MSE = []\n",
    "R2 = []\n",
    "for model in models:\n",
    "    tempPred = model.predict(testX)\n",
    "    MSE.append(mean_squared_error(testY,tempPred))\n",
    "    R2.append(r2_score(testY,tempPred))"
   ]
  },
  {
   "cell_type": "code",
   "execution_count": null,
   "metadata": {},
   "outputs": [],
   "source": [
    "degrees = [1,2,3]\n",
    "plt.plot(degrees,MSE,color = 'green')\n",
    "plt.plot(degrees,R2,color = 'red')\n",
    "plt.show()\n",
    "print(R2)"
   ]
  },
  {
   "cell_type": "markdown",
   "metadata": {},
   "source": [
    "Як ми бачимо, моделі 1 та 2 порядків досить схожі між собою, модель 3 порядку показує себе вже гірше. Тому найкращою буде модель 1 порядку, адже вона простіша за модель 2 порядку. Тепер приступимо до виконання додаткового завдання. Спочатку зчитаємо датасет."
   ]
  },
  {
   "cell_type": "code",
   "execution_count": null,
   "metadata": {},
   "outputs": [],
   "source": [
    "def getDataset():\n",
    "    data = pd.read_csv('Data4.csv',sep=';',encoding='windows-1251',decimal = ',')\n",
    "    return data \n",
    "\n",
    "dataset = getDataset()\n",
    "dataset.info()\n",
    "dataset.head(10)"
   ]
  },
  {
   "cell_type": "markdown",
   "metadata": {},
   "source": [
    "З типами проблем немає. Давайте перейменуємо першу колонку."
   ]
  },
  {
   "cell_type": "code",
   "execution_count": null,
   "metadata": {},
   "outputs": [],
   "source": [
    "dataset.rename(columns = {'Unnamed: 0':'Country'})"
   ]
  },
  {
   "cell_type": "markdown",
   "metadata": {},
   "source": [
    "Давайте перевіримо на негативні значення."
   ]
  },
  {
   "cell_type": "code",
   "execution_count": null,
   "metadata": {},
   "outputs": [],
   "source": [
    "for column in dataset.columns:\n",
    "    if dataset[column].dtype != 'object':\n",
    "        print(column + \": \")\n",
    "        print(dataset[dataset[column]<0])"
   ]
  },
  {
   "cell_type": "markdown",
   "metadata": {},
   "source": [
    "Як бачимо, негативних значень немає. Ми готові працювати з цими даними. Давайте розрахуємо матрицю кореляції для даних. \n"
   ]
  },
  {
   "cell_type": "code",
   "execution_count": null,
   "metadata": {},
   "outputs": [],
   "source": [
    "dataset.corr()"
   ]
  },
  {
   "cell_type": "markdown",
   "metadata": {},
   "source": [
    "Тепер давайте побудуємо діграми розсіювання."
   ]
  },
  {
   "cell_type": "code",
   "execution_count": null,
   "metadata": {},
   "outputs": [],
   "source": [
    "pd.plotting.scatter_matrix(dataset,figsize=(12,12))\n",
    "plt.show()"
   ]
  },
  {
   "cell_type": "markdown",
   "metadata": {},
   "source": [
    "Давайте побудуємо регресійні моделі. Спочатку лінійні для всіх наборів предикторів."
   ]
  },
  {
   "cell_type": "code",
   "execution_count": null,
   "metadata": {},
   "outputs": [],
   "source": [
    "Y = dataset['Cql']\n",
    "\n",
    "linear = []\n",
    "\n",
    "linear.append(LinearRegression().fit(dataset['Ie'].to_numpy().reshape(-1,1), Y))\n",
    "linear.append(LinearRegression().fit(dataset['Iec'].to_numpy().reshape(-1,1), Y))\n",
    "linear.append(LinearRegression().fit(dataset['Is'].to_numpy().reshape(-1,1), Y))\n",
    "linear.append(LinearRegression().fit(dataset[['Is', 'Iec']], Y))\n",
    "linear.append(LinearRegression().fit(dataset[['Is', 'Ie']], Y))\n",
    "linear.append(LinearRegression().fit(dataset[['Ie', 'Iec']], Y))\n",
    "linear.append(LinearRegression().fit(dataset[['Ie', 'Iec','Is']], Y))"
   ]
  },
  {
   "cell_type": "markdown",
   "metadata": {},
   "source": [
    "Тепер давайте створимо поліноміальні моделі 2 порядку"
   ]
  },
  {
   "cell_type": "code",
   "execution_count": null,
   "metadata": {},
   "outputs": [],
   "source": [
    "polinomial = []\n",
    "polinomial.append(make_pipeline(PolynomialFeatures(degree=2),LinearRegression()))\n",
    "polinomial[0].fit(dataset['Ie'].to_numpy().reshape(-1,1), Y)\n",
    "polinomial.append(make_pipeline(PolynomialFeatures(degree=2),LinearRegression()))\n",
    "polinomial[1].fit(dataset['Iec'].to_numpy().reshape(-1,1), Y)\n",
    "polinomial.append(make_pipeline(PolynomialFeatures(degree=2),LinearRegression()))\n",
    "polinomial[2].fit(dataset['Is'].to_numpy().reshape(-1,1), Y)\n",
    "polinomial.append(make_pipeline(PolynomialFeatures(degree=2),LinearRegression()))\n",
    "polinomial[3].fit(dataset[['Is', 'Iec']], Y)\n",
    "polinomial.append(make_pipeline(PolynomialFeatures(degree=2),LinearRegression()))\n",
    "polinomial[4].fit(dataset[['Is', 'Ie']], Y)\n",
    "polinomial.append(make_pipeline(PolynomialFeatures(degree=2),LinearRegression()))\n",
    "polinomial[5].fit(dataset[['Ie', 'Iec']], Y)\n",
    "polinomial.append(make_pipeline(PolynomialFeatures(degree=2),LinearRegression()))\n",
    "polinomial[6].fit(dataset[['Ie', 'Iec','Is']], Y)"
   ]
  },
  {
   "cell_type": "markdown",
   "metadata": {},
   "source": [
    "Тепер давайте зчитаємо датасет з даними для тесту та протестуємо наші моделі."
   ]
  },
  {
   "cell_type": "code",
   "execution_count": null,
   "metadata": {},
   "outputs": [],
   "source": [
    "def getDataset():\n",
    "    data = pd.read_csv('Data4.csv',sep=';',encoding='windows-1251',decimal = ',')\n",
    "    return data \n",
    "\n",
    "testData = getDataset()\n",
    "testData.info()\n",
    "testData.head(10)\n"
   ]
  },
  {
   "cell_type": "markdown",
   "metadata": {},
   "source": [
    "З типами проблем немає. Давайте перейменуємо колонку. "
   ]
  },
  {
   "cell_type": "code",
   "execution_count": null,
   "metadata": {},
   "outputs": [],
   "source": [
    "testData.rename(columns = {'Unnamed: 0':'Country'})"
   ]
  },
  {
   "cell_type": "markdown",
   "metadata": {},
   "source": [
    "Тепер готові працювати з даними. Давайте порахуємо передбачувані дані для лінійних моделей, які ми побудували."
   ]
  },
  {
   "cell_type": "code",
   "execution_count": null,
   "metadata": {},
   "outputs": [],
   "source": [
    "predicts = []\n",
    "\n",
    "predicts.append(linear[0].predict(testData['Ie'].to_numpy().reshape(-1,1)))\n",
    "predicts.append(linear[1].predict(testData['Iec'].to_numpy().reshape(-1,1)))\n",
    "predicts.append(linear[2].predict(testData['Is'].to_numpy().reshape(-1,1)))\n",
    "predicts.append(linear[3].predict(testData[['Is','Iec']]))\n",
    "predicts.append(linear[4].predict(testData[['Is', 'Ie']]))\n",
    "predicts.append(linear[5].predict(testData[['Ie', 'Iec']]))\n",
    "predicts.append(linear[6].predict(testData[['Ie', 'Iec','Is']]))"
   ]
  },
  {
   "cell_type": "markdown",
   "metadata": {},
   "source": [
    "Тепер також додамо для поліноміальних."
   ]
  },
  {
   "cell_type": "code",
   "execution_count": null,
   "metadata": {},
   "outputs": [],
   "source": [
    "predicts.append(polinomial[0].predict(testData['Ie'].to_numpy().reshape(-1,1)))\n",
    "predicts.append(polinomial[1].predict(testData['Iec'].to_numpy().reshape(-1,1)))\n",
    "predicts.append(polinomial[2].predict(testData['Is'].to_numpy().reshape(-1,1)))\n",
    "predicts.append(polinomial[3].predict(testData[['Is','Iec']]))\n",
    "predicts.append(polinomial[4].predict(testData[['Is', 'Ie']]))\n",
    "predicts.append(polinomial[5].predict(testData[['Ie', 'Iec']]))\n",
    "predicts.append(polinomial[6].predict(testData[['Ie', 'Iec','Is']]))"
   ]
  },
  {
   "cell_type": "markdown",
   "metadata": {},
   "source": [
    "Тепер звіримо передбачувані значення з реальними значеннями в датасеті та визначимо яка з моделей краща."
   ]
  },
  {
   "cell_type": "code",
   "execution_count": null,
   "metadata": {},
   "outputs": [],
   "source": [
    "indexMinMSE = np.sum((np.array(predicts)- testData['Cql'].to_numpy())**2,axis = 1).argmin()\n",
    "print(indexMinMSE)"
   ]
  },
  {
   "cell_type": "markdown",
   "metadata": {},
   "source": [
    "Отже, найменше значення MSE показує модель з індексом 13, тобто поліноміальна з 3 змінними, що доволі логічно."
   ]
  }
 ],
 "metadata": {
  "interpreter": {
   "hash": "cd33f47137b00f9a3c223ad7cd7ea8009173bfffa8c9627ff61bae578e5b56e2"
  },
  "kernelspec": {
   "display_name": "Python 3.10.4 64-bit",
   "language": "python",
   "name": "python3"
  },
  "language_info": {
   "codemirror_mode": {
    "name": "ipython",
    "version": 3
   },
   "file_extension": ".py",
   "mimetype": "text/x-python",
   "name": "python",
   "nbconvert_exporter": "python",
   "pygments_lexer": "ipython3",
   "version": "3.10.4"
  },
  "orig_nbformat": 4
 },
 "nbformat": 4,
 "nbformat_minor": 2
}
